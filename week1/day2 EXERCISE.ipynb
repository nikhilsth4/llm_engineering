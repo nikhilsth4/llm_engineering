{
 "cells": [
  {
   "cell_type": "markdown",
   "id": "d15d8294-3328-4e07-ad16-8a03e9bbfdb9",
   "metadata": {},
   "source": [
    "# Welcome to your first assignment!\n",
    "\n",
    "Instructions are below. Please give this a try, and look in the solutions folder if you get stuck (or feel free to ask me!)"
   ]
  },
  {
   "cell_type": "markdown",
   "id": "ada885d9-4d42-4d9b-97f0-74fbbbfe93a9",
   "metadata": {},
   "source": [
    "<table style=\"margin: 0; text-align: left;\">\n",
    "    <tr>\n",
    "        <td style=\"width: 150px; height: 150px; vertical-align: middle;\">\n",
    "            <img src=\"../resources.jpg\" width=\"150\" height=\"150\" style=\"display: block;\" />\n",
    "        </td>\n",
    "        <td>\n",
    "            <h2 style=\"color:#f71;\">Just before we get to the assignment --</h2>\n",
    "            <span style=\"color:#f71;\">I thought I'd take a second to point you at this page of useful resources for the course. This includes links to all the slides.<br/>\n",
    "            <a href=\"https://edwarddonner.com/2024/11/13/llm-engineering-resources/\">https://edwarddonner.com/2024/11/13/llm-engineering-resources/</a><br/>\n",
    "            Please keep this bookmarked, and I'll continue to add more useful links there over time.\n",
    "            </span>\n",
    "        </td>\n",
    "    </tr>\n",
    "</table>"
   ]
  },
  {
   "cell_type": "markdown",
   "id": "6e9fa1fc-eac5-4d1d-9be4-541b3f2b3458",
   "metadata": {},
   "source": [
    "# HOMEWORK EXERCISE ASSIGNMENT\n",
    "\n",
    "Upgrade the day 1 project to summarize a webpage to use an Open Source model running locally via Ollama rather than OpenAI\n",
    "\n",
    "You'll be able to use this technique for all subsequent projects if you'd prefer not to use paid APIs.\n",
    "\n",
    "**Benefits:**\n",
    "1. No API charges - open-source\n",
    "2. Data doesn't leave your box\n",
    "\n",
    "**Disadvantages:**\n",
    "1. Significantly less power than Frontier Model\n",
    "\n",
    "## Recap on installation of Ollama\n",
    "\n",
    "Simply visit [ollama.com](https://ollama.com) and install!\n",
    "\n",
    "Once complete, the ollama server should already be running locally.  \n",
    "If you visit:  \n",
    "[http://localhost:11434/](http://localhost:11434/)\n",
    "\n",
    "You should see the message `Ollama is running`.  \n",
    "\n",
    "If not, bring up a new Terminal (Mac) or Powershell (Windows) and enter `ollama serve`  \n",
    "And in another Terminal (Mac) or Powershell (Windows), enter `ollama pull llama3.2`  \n",
    "Then try [http://localhost:11434/](http://localhost:11434/) again.\n",
    "\n",
    "If Ollama is slow on your machine, try using `llama3.2:1b` as an alternative. Run `ollama pull llama3.2:1b` from a Terminal or Powershell, and change the code below from `MODEL = \"llama3.2\"` to `MODEL = \"llama3.2:1b\"`"
   ]
  },
  {
   "cell_type": "code",
   "execution_count": 1,
   "id": "4e2a9393-7767-488e-a8bf-27c12dca35bd",
   "metadata": {},
   "outputs": [],
   "source": [
    "# imports\n",
    "\n",
    "import requests\n",
    "from bs4 import BeautifulSoup\n",
    "from IPython.display import Markdown, display"
   ]
  },
  {
   "cell_type": "code",
   "execution_count": 2,
   "id": "29ddd15d-a3c5-4f4e-a678-873f56162724",
   "metadata": {},
   "outputs": [],
   "source": [
    "# Constants\n",
    "\n",
    "OLLAMA_API = \"http://localhost:11434/api/chat\"\n",
    "HEADERS = {\"Content-Type\": \"application/json\"}\n",
    "MODEL = \"llama3.2\""
   ]
  },
  {
   "cell_type": "code",
   "execution_count": 3,
   "id": "dac0a679-599c-441f-9bf2-ddc73d35b940",
   "metadata": {},
   "outputs": [],
   "source": [
    "# Create a messages list using the same format that we used for OpenAI\n",
    "\n",
    "messages = [\n",
    "    {\"role\": \"user\", \"content\": \"Describe some of the business applications of Generative AI\"}\n",
    "]"
   ]
  },
  {
   "cell_type": "code",
   "execution_count": 4,
   "id": "7bb9c624-14f0-4945-a719-8ddb64f66f47",
   "metadata": {},
   "outputs": [],
   "source": [
    "payload = {\n",
    "        \"model\": MODEL,\n",
    "        \"messages\": messages,\n",
    "        \"stream\": False\n",
    "    }"
   ]
  },
  {
   "cell_type": "code",
   "execution_count": 8,
   "id": "42b9f644-522d-4e05-a691-56e7658c0ea9",
   "metadata": {},
   "outputs": [
    {
     "name": "stdout",
     "output_type": "stream",
     "text": [
      "Generative AI has numerous business applications across various industries. Here are some examples:\n",
      "\n",
      "1. **Content Generation**: Generative AI can be used to generate high-quality content such as articles, social media posts, and product descriptions. This can help businesses save time and resources while also improving the quality of their content.\n",
      "2. **Image and Video Creation**: Generative AI can be used to create realistic images and videos that can be used in marketing materials, product demos, or even virtual reality experiences.\n",
      "3. **Chatbots and Virtual Assistants**: Generative AI can be used to power chatbots and virtual assistants that can engage with customers and provide personalized support.\n",
      "4. **Product Design and Development**: Generative AI can be used to generate 3D models and designs for products, reducing the time and cost associated with traditional design methods.\n",
      "5. **Predictive Maintenance**: Generative AI can be used to predict equipment failures and schedule maintenance, reducing downtime and increasing overall efficiency.\n",
      "6. **Marketing Automation**: Generative AI can be used to automate marketing campaigns, personalize messages, and optimize ad targeting.\n",
      "7. **Customer Service**: Generative AI can be used to generate personalized customer service responses, freeing up human customer support agents to focus on more complex issues.\n",
      "8. **Data Analysis and Visualization**: Generative AI can be used to analyze large datasets and generate visualizations that help businesses make data-driven decisions.\n",
      "9. **Financial Modeling**: Generative AI can be used to build financial models, predict market trends, and optimize investment strategies.\n",
      "10. **Supply Chain Optimization**: Generative AI can be used to optimize supply chain logistics, predict demand, and identify bottlenecks in the supply chain.\n",
      "\n",
      "Some specific business applications of Generative AI include:\n",
      "\n",
      "* **Google's Bard**: A chatbot that uses generative AI to answer questions and engage with users.\n",
      "* **Amazon's Sumerian**: A platform that uses generative AI to create 3D models and animations for product demos and marketing materials.\n",
      "* **IBM's Watson**: A AI platform that uses generative AI to analyze data, generate reports, and make predictions.\n",
      "* **Microsoft's Azure Machine Learning**: A cloud-based platform that uses generative AI to build machine learning models and deploy them in real-time.\n",
      "\n",
      "These are just a few examples of the many business applications of Generative AI. As the technology continues to evolve, we can expect to see even more innovative uses of generative AI across various industries.\n",
      "Collecting ollama\n",
      "  Downloading ollama-0.4.4-py3-none-any.whl.metadata (4.7 kB)\n",
      "Requirement already satisfied: httpx<0.28.0,>=0.27.0 in c:\\users\\nikhi\\anaconda3\\envs\\llms\\lib\\site-packages (from ollama) (0.27.2)\n",
      "Requirement already satisfied: pydantic<3.0.0,>=2.9.0 in c:\\users\\nikhi\\anaconda3\\envs\\llms\\lib\\site-packages (from ollama) (2.9.2)\n",
      "Requirement already satisfied: anyio in c:\\users\\nikhi\\anaconda3\\envs\\llms\\lib\\site-packages (from httpx<0.28.0,>=0.27.0->ollama) (4.6.2.post1)\n",
      "Requirement already satisfied: certifi in c:\\users\\nikhi\\anaconda3\\envs\\llms\\lib\\site-packages (from httpx<0.28.0,>=0.27.0->ollama) (2024.12.14)\n",
      "Requirement already satisfied: httpcore==1.* in c:\\users\\nikhi\\anaconda3\\envs\\llms\\lib\\site-packages (from httpx<0.28.0,>=0.27.0->ollama) (1.0.6)\n",
      "Requirement already satisfied: idna in c:\\users\\nikhi\\anaconda3\\envs\\llms\\lib\\site-packages (from httpx<0.28.0,>=0.27.0->ollama) (3.10)\n",
      "Requirement already satisfied: sniffio in c:\\users\\nikhi\\anaconda3\\envs\\llms\\lib\\site-packages (from httpx<0.28.0,>=0.27.0->ollama) (1.3.1)\n",
      "Requirement already satisfied: h11<0.15,>=0.13 in c:\\users\\nikhi\\anaconda3\\envs\\llms\\lib\\site-packages (from httpcore==1.*->httpx<0.28.0,>=0.27.0->ollama) (0.14.0)\n",
      "Requirement already satisfied: annotated-types>=0.6.0 in c:\\users\\nikhi\\anaconda3\\envs\\llms\\lib\\site-packages (from pydantic<3.0.0,>=2.9.0->ollama) (0.7.0)\n",
      "Requirement already satisfied: pydantic-core==2.23.4 in c:\\users\\nikhi\\anaconda3\\envs\\llms\\lib\\site-packages (from pydantic<3.0.0,>=2.9.0->ollama) (2.23.4)\n",
      "Requirement already satisfied: typing-extensions>=4.6.1 in c:\\users\\nikhi\\anaconda3\\envs\\llms\\lib\\site-packages (from pydantic<3.0.0,>=2.9.0->ollama) (4.12.2)\n",
      "Downloading ollama-0.4.4-py3-none-any.whl (13 kB)\n",
      "Installing collected packages: ollama\n",
      "Successfully installed ollama-0.4.4\n"
     ]
    }
   ],
   "source": [
    "response = requests.post(OLLAMA_API, json=payload, headers=HEADERS)\n",
    "print(response.json()['message']['content'])\n",
    "!pip install ollama"
   ]
  },
  {
   "cell_type": "markdown",
   "id": "6a021f13-d6a1-4b96-8e18-4eae49d876fe",
   "metadata": {},
   "source": [
    "# Introducing the ollama package\n",
    "\n",
    "And now we'll do the same thing, but using the elegant ollama python package instead of a direct HTTP call.\n",
    "\n",
    "Under the hood, it's making the same call as above to the ollama server running at localhost:11434"
   ]
  },
  {
   "cell_type": "code",
   "execution_count": 9,
   "id": "7745b9c4-57dc-4867-9180-61fa5db55eb8",
   "metadata": {},
   "outputs": [
    {
     "name": "stdout",
     "output_type": "stream",
     "text": [
      "Generative AI has numerous business applications across various industries, including:\n",
      "\n",
      "1. **Content Creation**: Generate high-quality content such as blog posts, social media posts, product descriptions, and more, reducing the need for human writers.\n",
      "2. **Product Design**: Create 3D models, designs, and prototypes using generative AI, streamlining the design process and reducing costs.\n",
      "3. **Marketing Automation**: Use generative AI to create personalized marketing messages, offers, and campaigns, improving customer engagement and conversion rates.\n",
      "4. **Data Analysis and Visualization**: Generate insights and visualizations from large datasets, enabling data-driven decision-making and business optimization.\n",
      "5. **Chatbots and Virtual Assistants**: Create conversational interfaces that can understand and respond to user queries, providing 24/7 support and improving customer satisfaction.\n",
      "6. **Image and Video Generation**: Produce high-quality images and videos for marketing campaigns, product demos, and other visual applications, reducing production costs.\n",
      "7. **Music and Audio Generation**: Create original music tracks, sound effects, and audio loops for film, TV, and advertising productions.\n",
      "8. **Software Development**: Use generative AI to generate code, automate testing, and optimize software performance, improving development efficiency and reducing errors.\n",
      "9. **Fashion and Product Design**: Generate designs, prototypes, and samples for fashion products, shoes, and accessories, enabling rapid prototyping and production.\n",
      "10. **Supply Chain Optimization**: Analyze vast amounts of data to predict demand, forecast inventory levels, and optimize logistics and shipping routes.\n",
      "11. **Customer Service**: Use generative AI-powered chatbots to provide personalized support, answer frequently asked questions, and route complex issues to human agents.\n",
      "12. **Scientific Research and Discovery**: Generate new scientific hypotheses, predict experimental outcomes, and simulate complex systems, accelerating scientific discovery and innovation.\n",
      "\n",
      "Some specific business use cases include:\n",
      "\n",
      "* **Automated customer service**: Use generative AI-powered chatbots to provide 24/7 support for customers, freeing up human agents to focus on more complex issues.\n",
      "* **Product recommendation engines**: Generate personalized product recommendations based on user behavior, purchase history, and preferences.\n",
      "* **Content generation for e-commerce**: Use generative AI to create product descriptions, meta tags, and other content that improves search engine rankings and boosts sales.\n",
      "* **Predictive maintenance**: Analyze sensor data from equipment and predict potential failures, enabling proactive maintenance and reducing downtime.\n",
      "\n",
      "These are just a few examples of the many business applications of Generative AI. As the technology continues to evolve, we can expect to see even more innovative use cases emerge across various industries.\n"
     ]
    }
   ],
   "source": [
    "import ollama\n",
    "response = ollama.chat(model=MODEL, messages=messages)\n",
    "print(response['message']['content'])"
   ]
  },
  {
   "cell_type": "markdown",
   "id": "a4704e10-f5fb-4c15-a935-f046c06fb13d",
   "metadata": {},
   "source": [
    "## Alternative approach - using OpenAI python library to connect to Ollama"
   ]
  },
  {
   "cell_type": "code",
   "execution_count": 10,
   "id": "23057e00-b6fc-4678-93a9-6b31cb704bff",
   "metadata": {},
   "outputs": [
    {
     "name": "stdout",
     "output_type": "stream",
     "text": [
      "Generative AI has numerous business applications across various industries, including:\n",
      "\n",
      "1. **Content Creation**: Generative AI can be used to create high-quality content such as articles, social media posts, product descriptions, and more. This can help reduce content creation costs and improve consistency.\n",
      "2. **Marketing Automation**: Generative AI can automate marketing workflows, creating personalized campaigns, emails, and advertisements that resonate with customers.\n",
      "3. **Graphic Design**: AI-powered tools like DALL-E and Stable Diffusion can generate high-quality images, logos, and designs for various businesses, saving time and money on graphic design tasks.\n",
      "4. **Product Design**: Generative AI can help create 3D models of products using computer-aided design (CAD) software, reducing the need for human designers and creating customized design options for customers.\n",
      "5. **Voice Assistants**: Generative AI is used in the development of voice assistants, enabling them to understand voice commands, generate responses, and provide customer support services.\n",
      "6. **Customer Service Chatbots**: AI-powered chatbots can use generative models to personalize interactions with customers, provide proactive support, and resolve issues efficiently.\n",
      "7. **Data Analysis**: Generative AI can analyze and visualize massive amounts of data, enabling businesses to gain deeper insights into consumer behavior, market trends, and performance metrics.\n",
      "8. **Financial Modeling**: Generative AI can help create detailed financial models by predicting future sales, profits, and returns on investment (ROI), which helps investors make informed decisions.\n",
      "9. **Music Composition**: Music streaming services use generative AI to create personalized playlists based on user preferences and listening habits.\n",
      "10. **Image Recognition**: Generative AI-powered computer vision technologies can analyze and understand visual content for applications such as object detection, facial recognition, and quality control inspection.\n",
      "\n",
      "Some other emerging areas include:\n",
      "\n",
      "*   **Generative Finance**: AI models that predict financial trends, generate predictive analytics, and optimize investment portfolios.\n",
      "*   **Personalized Learning Platforms**: Generative AI-powered platforms create tailored educational experiences for students based on learning habits, interests, and progress.\n",
      "*   **Autonomous Transportation Systems**: Generative AI helps design self-driving cars by simulating millions of scenarios to improve safety, efficiency, and reliability.\n",
      "\n",
      "As generative AI continues to evolve and mature, its potential business applications will expand beyond these examples. It is essential to recognize the capabilities and limitations of this technology and integrate it into various sectors in a way that enhances productivity, improves efficiency, and fosters innovation.\n"
     ]
    }
   ],
   "source": [
    "# There's actually an alternative approach that some people might prefer\n",
    "# You can use the OpenAI client python library to call Ollama:\n",
    "\n",
    "from openai import OpenAI\n",
    "ollama_via_openai = OpenAI(base_url='http://localhost:11434/v1', api_key='ollama')\n",
    "\n",
    "response = ollama_via_openai.chat.completions.create(\n",
    "    model=MODEL,\n",
    "    messages=messages\n",
    ")\n",
    "\n",
    "print(response.choices[0].message.content)"
   ]
  },
  {
   "cell_type": "markdown",
   "id": "1622d9bb-5c68-4d4e-9ca4-b492c751f898",
   "metadata": {},
   "source": [
    "# NOW the exercise for you\n",
    "\n",
    "Take the code from day1 and incorporate it here, to build a website summarizer that uses Llama 3.2 running locally instead of OpenAI; use either of the above approaches."
   ]
  },
  {
   "cell_type": "code",
   "execution_count": null,
   "id": "402d5686-4e76-4110-b65a-b3906c35c0a4",
   "metadata": {},
   "outputs": [],
   "source": []
  }
 ],
 "metadata": {
  "kernelspec": {
   "display_name": "Python 3 (ipykernel)",
   "language": "python",
   "name": "python3"
  },
  "language_info": {
   "codemirror_mode": {
    "name": "ipython",
    "version": 3
   },
   "file_extension": ".py",
   "mimetype": "text/x-python",
   "name": "python",
   "nbconvert_exporter": "python",
   "pygments_lexer": "ipython3",
   "version": "3.11.10"
  }
 },
 "nbformat": 4,
 "nbformat_minor": 5
}
