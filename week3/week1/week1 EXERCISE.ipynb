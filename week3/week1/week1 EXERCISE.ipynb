{
 "cells": [
  {
   "cell_type": "markdown",
   "id": "fe12c203-e6a6-452c-a655-afb8a03a4ff5",
   "metadata": {},
   "source": [
    "# End of week 1 exercise\n",
    "\n",
    "To demonstrate your familiarity with OpenAI API, and also Ollama, build a tool that takes a technical question,  \n",
    "and responds with an explanation. This is a tool that you will be able to use yourself during the course!"
   ]
  },
  {
   "cell_type": "code",
   "execution_count": 1,
   "id": "c1070317-3ed9-4659-abe3-828943230e03",
   "metadata": {},
   "outputs": [],
   "source": [
    "# imports\n",
    "import os\n",
    "import requests\n",
    "import json\n",
    "from typing import List\n",
    "from dotenv import load_dotenv\n",
    "from bs4 import BeautifulSoup\n",
    "from IPython.display import Markdown, display, update_display\n",
    "from openai import OpenAI"
   ]
  },
  {
   "cell_type": "code",
   "execution_count": 3,
   "id": "4a456906-915a-4bfd-bb9d-57e505c5093f",
   "metadata": {},
   "outputs": [],
   "source": [
    "# constants\n",
    "MODEL_GEMINI = 'gemini-1.5-flash'\n",
    "MODEL_LLAMA = 'llama3.2'"
   ]
  },
  {
   "cell_type": "code",
   "execution_count": 5,
   "id": "a8d7923c-5f28-4c30-8556-342d7c8497c1",
   "metadata": {},
   "outputs": [],
   "source": [
    "# set up environment\n",
    "load_dotenv()\n",
    "api_key = os.getenv('GEMINI_API_KEY')   \n",
    "openai_gemini = OpenAI(api_key=api_key, base_url=\"https://generativelanguage.googleapis.com/v1beta/openai/\")\n",
    "openai_llama = OpenAI(base_url='http://localhost:11434/v1', api_key='ollama')\n"
   ]
  },
  {
   "cell_type": "code",
   "execution_count": 8,
   "id": "3f0d0137-52b0-47a8-81a8-11a90a010798",
   "metadata": {},
   "outputs": [],
   "source": [
    "# here is the question; type over this to ask something new\n",
    "system_prompt = \"You are an assistant which has experience of more than 10 years of programming experience\"\n",
    "user_prompt = \"\"\"\n",
    "Please explain what this code does and why:\n",
    "yield from {book.get(\"author\") for book in books if book.get(\"author\")}\n",
    "\"\"\""
   ]
  },
  {
   "cell_type": "code",
   "execution_count": 16,
   "id": "60ce7000-a4a5-4cce-a261-e75ef45063b4",
   "metadata": {},
   "outputs": [
    {
     "data": {
      "text/markdown": [
       "This code snippet is a Python generator expression that efficiently yields authors' names from a list of dictionaries, `books`. Let's break it down piece by piece:\n",
       "\n",
       "1. **`books`:** This is assumed to be a list (or other iterable) where each element is a dictionary representing a book.  Each book dictionary is expected to have at least a key `\"author\"`, though its value might be `None` or missing.\n",
       "\n",
       "2. **`if book.get(\"author\")`:** This is a conditional check within a list comprehension. `book.get(\"author\")` safely retrieves the value associated with the key `\"author\"` from the `book` dictionary. If the key `\"author\"` is not present, it returns `None`; otherwise, it returns the author's name (presumably a string).  The `if` condition ensures that only books with a defined `\"author\"` are processed further.  Crucially, this avoids `KeyError` exceptions that would occur if `book[\"author\"]` (without `.get()`) were used and a key is missing.\n",
       "\n",
       "3. **`{book.get(\"author\") for book in books}`:** This is a set comprehension. It iterates through each `book` in the `books` list. For each book with a non-`None` `\"author\"`, it adds the author's name to a set.  Using a set automatically removes duplicate author names.\n",
       "\n",
       "4. **`yield from`:** This is the key to understanding why this is a *generator*.  `yield from` takes an iterable (in this case, the set comprehension) and yields each item from that iterable one at a time. This is significantly more memory-efficient than creating the entire set in memory first and then iterating over it, especially if `books` is a large list.  The generator produces the author names lazily— only when requested by the consumer of the generator.\n",
       "\n",
       "**In summary:**\n",
       "\n",
       "The code efficiently extracts unique authors' names from a list of book dictionaries. It uses a combination of `book.get()` for safe key access, a set comprehension to eliminate duplicates, and `yield from` to create a memory-friendly generator that yields each unique author's name one by one as they are requested,  preventing unnecessary memory allocation.\n",
       "\n",
       "\n",
       "**Example:**\n",
       "\n",
       "Let's say:\n",
       "\n",
       "python\n",
       "books = [\n",
       "    {\"title\": \"Book A\", \"author\": \"Jane Doe\"},\n",
       "    {\"title\": \"Book B\", \"author\": \"John Smith\"},\n",
       "    {\"title\": \"Book C\", \"author\": \"Jane Doe\"},\n",
       "    {\"title\": \"Book D\"},  # Missing author\n",
       "    {\"title\": \"Book E\", \"author\": \"Peter Jones\"}\n",
       "]\n",
       "\n",
       "author_generator = (yield from {book.get(\"author\") for book in books if book.get(\"author\")})\n",
       "\n",
       "for author in author_generator:\n",
       "    print(author)\n",
       "\n",
       "\n",
       "This will output:\n",
       "\n",
       "\n",
       "Jane Doe\n",
       "John Smith\n",
       "Peter Jones\n",
       "\n",
       "\n",
       "Notice that \"Jane Doe\" appears only once, demonstrating the set's deduplication.  The output order might vary slightly because sets are unordered, but the unique authors are correctly produced.  If the `yield from` was replaced with simply creating and returning the set,  the memory usage would scale linearly with the number of books and authors, while this generator approach has constant memory usage regardless of the size of `books`.\n"
      ],
      "text/plain": [
       "<IPython.core.display.Markdown object>"
      ]
     },
     "metadata": {},
     "output_type": "display_data"
    }
   ],
   "source": [
    "# Get gpt-4o-mini to answer, with streaming\n",
    "\n",
    "def messages_for():\n",
    "    return [\n",
    "        {\"role\": \"system\", \"content\": system_prompt},\n",
    "        {\"role\": \"user\", \"content\": user_prompt}\n",
    "    ]\n",
    "\n",
    "gemini_response = openai_gemini.chat.completions.create(\n",
    "    model = MODEL_GEMINI,\n",
    "    messages = messages_for(),\n",
    "    stream = True\n",
    ")\n",
    "\n",
    "response = \"\"\n",
    "display_handle = display(Markdown(\"\"), display_id=True)\n",
    "\n",
    "for chunk in gemini_response:\n",
    "        response += chunk.choices[0].delta.content or ''\n",
    "        response = response.replace(\"```\",\"\").replace(\"markdown\", \"\")\n",
    "        update_display(Markdown(response), display_id=display_handle.display_id)"
   ]
  },
  {
   "cell_type": "code",
   "execution_count": 20,
   "id": "8f7c8ea8-4082-4ad0-8751-3301adcf6538",
   "metadata": {},
   "outputs": [
    {
     "data": {
      "text/plain": [
       "'This is a Python snippet that uses the `yield from` keyword, which was introduced in Python 3.3. I\\'ll break it down for you.\\n\\n**What is `yield from`?**\\n\\nIn Python, a generator function is a special type of function that can be used to generate a sequence of values on-the-fly, rather than computing them all at once and returning them in a list or other collection. The `yield from` keyword allows you to define a nested generator, which means you can yield values from another generator.\\n\\n**The code**\\n\\nIn this specific case:\\n```python\\nyield from {book.get(\"author\") for book in books if book.get(\"author\")}\\n```\\nThis code is using the `{}` syntax to create a new dictionary comprehension. However, it\\'s not creating an actual dictionary; instead, it\\'s generating values on-the-fly and yielding them.\\n\\nHere\\'s what happens:\\n\\n1. `books` is assumed to be an iterable (e.g., a list or tuple) containing dictionaries.\\n2. For each dictionary `book` in the `books` iterable:\\n\\t* The expression `{book.get(\"author\") for book in books if book.get(\"author\")}`}\\n\\t* This inner comprehension iterates over the same `books` iterable and selects dictionaries where `book.get(\"author\")` returns a truthy value (i.e., not `None` or an empty string).\\n3. For each `book` that passes this condition, its `\"author\"` value is extracted from the dictionary using `book.get(\"author\")`.\\n4. The resulting sequence of authors is yielded by the outer generator function with `yield from`.\\n\\n**Why use `yield from`?**\\n\\nBy using `yield from`, we\\'re creating a new generator function that lazily generates the values instead of computing them all at once and storing them in memory. This has several benefits:\\n\\n* **Memory efficiency**: We don\\'t need to store the entire sequence of authors in memory, which can help with large datasets.\\n* **Flexibility**: The code can be used in a loop or as part of other iteration constructs, without having to worry about the overhead of storing and processing the entire dataset at once.\\n\\n**Example usage**\\n\\nTo use this code effectively, you might pass it to a function like `group_by` that takes an iterable of dictionaries and groups them based on a common key (in this case, `\"author\"`). The resulting grouped data structure could be used for further analysis or processing. For example:\\n```python\\ndef group_by(iterable, key_fn):\\n    groups = {}\\n    for item in iterable:\\n        k = key_fn(item)\\n        if k not in groups:\\n            groups[k] = []\\n        groups[k].append(item)\\n    return groups\\n\\nauthors = yield from {book.get(\"author\") for book in books if book.get(\"author\")}\\ngroups = group_by(books, lambda b: authors)\\n\\nfor author, list of groups.items():\\n    print(f\"{author}: {[\\'\\'.join(item[\\'title\\'] for item in list)]}\")\\n```\\nThis code would take the `books` iterable and generate an iterator over the unique authors, then group the books by their corresponding authors. The resulting output would display each book title grouped by author.'"
      ]
     },
     "execution_count": 20,
     "metadata": {},
     "output_type": "execute_result"
    }
   ],
   "source": [
    "# Get Llama 3.2 to answer\n",
    "\n",
    "llama_response = openai_llama.chat.completions.create(\n",
    "    model = MODEL_LLAMA,\n",
    "    messages = messages_for()\n",
    ")\n",
    "llama_response.choices[0].message.content"
   ]
  },
  {
   "cell_type": "code",
   "execution_count": 21,
   "id": "112ced06-38e9-4bf6-b508-cce13cb080d2",
   "metadata": {},
   "outputs": [
    {
     "data": {
      "text/markdown": [
       "This is a Python snippet that uses the `yield from` keyword, which was introduced in Python 3.3. I'll break it down for you.\n",
       "\n",
       "**What is `yield from`?**\n",
       "\n",
       "In Python, a generator function is a special type of function that can be used to generate a sequence of values on-the-fly, rather than computing them all at once and returning them in a list or other collection. The `yield from` keyword allows you to define a nested generator, which means you can yield values from another generator.\n",
       "\n",
       "**The code**\n",
       "\n",
       "In this specific case:\n",
       "```python\n",
       "yield from {book.get(\"author\") for book in books if book.get(\"author\")}\n",
       "```\n",
       "This code is using the `{}` syntax to create a new dictionary comprehension. However, it's not creating an actual dictionary; instead, it's generating values on-the-fly and yielding them.\n",
       "\n",
       "Here's what happens:\n",
       "\n",
       "1. `books` is assumed to be an iterable (e.g., a list or tuple) containing dictionaries.\n",
       "2. For each dictionary `book` in the `books` iterable:\n",
       "\t* The expression `{book.get(\"author\") for book in books if book.get(\"author\")}`}\n",
       "\t* This inner comprehension iterates over the same `books` iterable and selects dictionaries where `book.get(\"author\")` returns a truthy value (i.e., not `None` or an empty string).\n",
       "3. For each `book` that passes this condition, its `\"author\"` value is extracted from the dictionary using `book.get(\"author\")`.\n",
       "4. The resulting sequence of authors is yielded by the outer generator function with `yield from`.\n",
       "\n",
       "**Why use `yield from`?**\n",
       "\n",
       "By using `yield from`, we're creating a new generator function that lazily generates the values instead of computing them all at once and storing them in memory. This has several benefits:\n",
       "\n",
       "* **Memory efficiency**: We don't need to store the entire sequence of authors in memory, which can help with large datasets.\n",
       "* **Flexibility**: The code can be used in a loop or as part of other iteration constructs, without having to worry about the overhead of storing and processing the entire dataset at once.\n",
       "\n",
       "**Example usage**\n",
       "\n",
       "To use this code effectively, you might pass it to a function like `group_by` that takes an iterable of dictionaries and groups them based on a common key (in this case, `\"author\"`). The resulting grouped data structure could be used for further analysis or processing. For example:\n",
       "```python\n",
       "def group_by(iterable, key_fn):\n",
       "    groups = {}\n",
       "    for item in iterable:\n",
       "        k = key_fn(item)\n",
       "        if k not in groups:\n",
       "            groups[k] = []\n",
       "        groups[k].append(item)\n",
       "    return groups\n",
       "\n",
       "authors = yield from {book.get(\"author\") for book in books if book.get(\"author\")}\n",
       "groups = group_by(books, lambda b: authors)\n",
       "\n",
       "for author, list of groups.items():\n",
       "    print(f\"{author}: {[''.join(item['title'] for item in list)]}\")\n",
       "```\n",
       "This code would take the `books` iterable and generate an iterator over the unique authors, then group the books by their corresponding authors. The resulting output would display each book title grouped by author."
      ],
      "text/plain": [
       "<IPython.core.display.Markdown object>"
      ]
     },
     "execution_count": 21,
     "metadata": {},
     "output_type": "execute_result"
    }
   ],
   "source": [
    "Markdown(llama_response.choices[0].message.content)"
   ]
  },
  {
   "cell_type": "code",
   "execution_count": null,
   "id": "c70ea8d3-b3a7-48ff-ab72-7be02e31fae0",
   "metadata": {},
   "outputs": [],
   "source": []
  }
 ],
 "metadata": {
  "kernelspec": {
   "display_name": "Python 3 (ipykernel)",
   "language": "python",
   "name": "python3"
  },
  "language_info": {
   "codemirror_mode": {
    "name": "ipython",
    "version": 3
   },
   "file_extension": ".py",
   "mimetype": "text/x-python",
   "name": "python",
   "nbconvert_exporter": "python",
   "pygments_lexer": "ipython3",
   "version": "3.11.10"
  }
 },
 "nbformat": 4,
 "nbformat_minor": 5
}
